{
 "cells": [
  {
   "cell_type": "code",
   "execution_count": 39,
   "metadata": {},
   "outputs": [],
   "source": [
    "import numpy as np\n",
    "import pandas as pd\n",
    "from sklearn.linear_model import LinearRegression\n",
    "import joblib"
   ]
  },
  {
   "cell_type": "code",
   "execution_count": 40,
   "metadata": {},
   "outputs": [
    {
     "name": "stdout",
     "output_type": "stream",
     "text": [
      "Empty DataFrame\n",
      "Columns: [Name, Country]\n",
      "Index: []\n"
     ]
    }
   ],
   "source": [
    "df = pd.DataFrame(columns = ['Name', 'Country'])\n",
    "print(df)\n",
    " "
   ]
  },
  {
   "cell_type": "code",
   "execution_count": 41,
   "metadata": {},
   "outputs": [
    {
     "name": "stdout",
     "output_type": "stream",
     "text": [
      "Arabic\n",
      "Chinese\n",
      "Czech\n",
      "Dutch\n",
      "English\n",
      "French\n",
      "German\n",
      "Greek\n",
      "Irish\n",
      "Italian\n",
      "Japanese\n",
      "Korean\n",
      "Polish\n",
      "Portuguese\n",
      "Russian\n",
      "Scottish\n",
      "Spanish\n",
      "Vietnamese\n"
     ]
    }
   ],
   "source": [
    "# Import Module\n",
    "import os\n",
    "  \n",
    "# Folder Path\n",
    "path = \"C:\\\\Users\\\\tn2mi\\\\Deep Learning\\\\Learn\\\\DeploymentFastApi\\\\data\\\\names\"\n",
    "  \n",
    "# Change the directory\n",
    "os.chdir(path)\n",
    "  \n",
    "names=[]\n",
    "country=[]\n",
    "# Read text File\n",
    "  \n",
    "  \n",
    "def read_text_file(file_path):\n",
    "    with open(file_path, 'r',encoding=\"utf8\") as f:\n",
    "        #country.append(file_path.)\n",
    "        names.append(f.read().split())\n",
    "       # df['Name']=f.read().split()\n",
    "        # df.add({'Name':f.read(),'Country':file_path})\n",
    "        \n",
    "  \n",
    "#country.append('C:\\\\Users\\\\tn2mi\\\\Deep Learning\\\\Learn\\\\DeploymentFastApi\\\\data\\\\names\\\\Arabic.txt')\n",
    "# iterate through all file\n",
    "for file in os.listdir():\n",
    "    #print(file[:len(file)-4])\n",
    "    country.append(file[:len(file)-4])\n",
    "    print(file[:len(file)-4])\n",
    "    # Check whether file is in text format or not\n",
    "    if file.endswith(\".txt\"):\n",
    "        file_path = f\"{path}\\{file}\"\n",
    "        #print(file_path)\n",
    "        # call read text file function\n",
    "        read_text_file(file_path)\n"
   ]
  },
  {
   "cell_type": "code",
   "execution_count": 42,
   "metadata": {},
   "outputs": [
    {
     "name": "stdout",
     "output_type": "stream",
     "text": [
      "0\n",
      "1\n",
      "2\n",
      "3\n",
      "4\n",
      "5\n",
      "6\n",
      "7\n",
      "8\n",
      "9\n",
      "10\n",
      "11\n",
      "12\n",
      "13\n",
      "14\n",
      "15\n",
      "16\n",
      "17\n"
     ]
    }
   ],
   "source": [
    "for i in names:\n",
    "    print(names.index(i))\n",
    "\n",
    "    country_name=country[names.index(i)]\n",
    "    for j in i:\n",
    "        new_row={'Name':j, 'Country':country_name}\n",
    "        new_df = pd.DataFrame([new_row])\n",
    "\n",
    "        df = pd.concat([df, new_df], ignore_index=True)\n",
    "\n",
    "    \n",
    "   \n"
   ]
  },
  {
   "cell_type": "code",
   "execution_count": 43,
   "metadata": {},
   "outputs": [
    {
     "data": {
      "text/plain": [
       "'Arabic'"
      ]
     },
     "execution_count": 43,
     "metadata": {},
     "output_type": "execute_result"
    }
   ],
   "source": [
    "country[0]"
   ]
  },
  {
   "cell_type": "code",
   "execution_count": 44,
   "metadata": {},
   "outputs": [
    {
     "data": {
      "text/html": [
       "<div>\n",
       "<style scoped>\n",
       "    .dataframe tbody tr th:only-of-type {\n",
       "        vertical-align: middle;\n",
       "    }\n",
       "\n",
       "    .dataframe tbody tr th {\n",
       "        vertical-align: top;\n",
       "    }\n",
       "\n",
       "    .dataframe thead th {\n",
       "        text-align: right;\n",
       "    }\n",
       "</style>\n",
       "<table border=\"1\" class=\"dataframe\">\n",
       "  <thead>\n",
       "    <tr style=\"text-align: right;\">\n",
       "      <th></th>\n",
       "      <th>Name</th>\n",
       "      <th>Country</th>\n",
       "    </tr>\n",
       "  </thead>\n",
       "  <tbody>\n",
       "    <tr>\n",
       "      <th>20089</th>\n",
       "      <td>Varela</td>\n",
       "      <td>Spanish</td>\n",
       "    </tr>\n",
       "    <tr>\n",
       "      <th>20090</th>\n",
       "      <td>Vargas</td>\n",
       "      <td>Spanish</td>\n",
       "    </tr>\n",
       "    <tr>\n",
       "      <th>20091</th>\n",
       "      <td>Vásquez</td>\n",
       "      <td>Spanish</td>\n",
       "    </tr>\n",
       "    <tr>\n",
       "      <th>20092</th>\n",
       "      <td>Vázquez</td>\n",
       "      <td>Spanish</td>\n",
       "    </tr>\n",
       "    <tr>\n",
       "      <th>20093</th>\n",
       "      <td>Vega</td>\n",
       "      <td>Spanish</td>\n",
       "    </tr>\n",
       "    <tr>\n",
       "      <th>...</th>\n",
       "      <td>...</td>\n",
       "      <td>...</td>\n",
       "    </tr>\n",
       "    <tr>\n",
       "      <th>20184</th>\n",
       "      <td>Truong</td>\n",
       "      <td>Vietnamese</td>\n",
       "    </tr>\n",
       "    <tr>\n",
       "      <th>20185</th>\n",
       "      <td>Van</td>\n",
       "      <td>Vietnamese</td>\n",
       "    </tr>\n",
       "    <tr>\n",
       "      <th>20186</th>\n",
       "      <td>Vinh</td>\n",
       "      <td>Vietnamese</td>\n",
       "    </tr>\n",
       "    <tr>\n",
       "      <th>20187</th>\n",
       "      <td>Vuong</td>\n",
       "      <td>Vietnamese</td>\n",
       "    </tr>\n",
       "    <tr>\n",
       "      <th>20188</th>\n",
       "      <td>Vuu</td>\n",
       "      <td>Vietnamese</td>\n",
       "    </tr>\n",
       "  </tbody>\n",
       "</table>\n",
       "<p>100 rows × 2 columns</p>\n",
       "</div>"
      ],
      "text/plain": [
       "          Name     Country\n",
       "20089   Varela     Spanish\n",
       "20090   Vargas     Spanish\n",
       "20091  Vásquez     Spanish\n",
       "20092  Vázquez     Spanish\n",
       "20093     Vega     Spanish\n",
       "...        ...         ...\n",
       "20184   Truong  Vietnamese\n",
       "20185      Van  Vietnamese\n",
       "20186     Vinh  Vietnamese\n",
       "20187    Vuong  Vietnamese\n",
       "20188      Vuu  Vietnamese\n",
       "\n",
       "[100 rows x 2 columns]"
      ]
     },
     "execution_count": 44,
     "metadata": {},
     "output_type": "execute_result"
    }
   ],
   "source": [
    "df.tail(100)"
   ]
  },
  {
   "cell_type": "code",
   "execution_count": 45,
   "metadata": {},
   "outputs": [
    {
     "data": {
      "text/plain": [
       "array(['Arabic', 'Chinese', 'Czech', 'Dutch', 'English', 'French',\n",
       "       'German', 'Greek', 'Irish', 'Italian', 'Japanese', 'Korean',\n",
       "       'Polish', 'Portuguese', 'Russian', 'Scottish', 'Spanish',\n",
       "       'Vietnamese'], dtype=object)"
      ]
     },
     "execution_count": 45,
     "metadata": {},
     "output_type": "execute_result"
    }
   ],
   "source": [
    "df['Country'].unique()"
   ]
  },
  {
   "cell_type": "code",
   "execution_count": 46,
   "metadata": {},
   "outputs": [],
   "source": [
    "class_names=['Arabic', 'Chinese', 'Czech', 'Dutch', 'English', 'French',\n",
    "       'German', 'Greek', 'Irish', 'Italian', 'Japanese', 'Korean',\n",
    "       'Polish', 'Portuguese', 'Russian', 'Scottish', 'Spanish',\n",
    "       'Vietnamese']"
   ]
  },
  {
   "cell_type": "code",
   "execution_count": 47,
   "metadata": {},
   "outputs": [
    {
     "data": {
      "text/plain": [
       "18"
      ]
     },
     "execution_count": 47,
     "metadata": {},
     "output_type": "execute_result"
    }
   ],
   "source": [
    "len(class_names)"
   ]
  },
  {
   "cell_type": "code",
   "execution_count": 48,
   "metadata": {},
   "outputs": [
    {
     "data": {
      "text/plain": [
       "Country\n",
       "Arabic        2000\n",
       "Chinese        268\n",
       "Czech          520\n",
       "Dutch          298\n",
       "English       3671\n",
       "French         282\n",
       "German         730\n",
       "Greek          203\n",
       "Irish          232\n",
       "Italian        726\n",
       "Japanese       991\n",
       "Korean          94\n",
       "Polish         139\n",
       "Portuguese      75\n",
       "Russian       9480\n",
       "Scottish       100\n",
       "Spanish        307\n",
       "Vietnamese      73\n",
       "Name: Name, dtype: int64"
      ]
     },
     "execution_count": 48,
     "metadata": {},
     "output_type": "execute_result"
    }
   ],
   "source": [
    "df.groupby('Country')['Name'].size()\n"
   ]
  },
  {
   "cell_type": "code",
   "execution_count": 49,
   "metadata": {},
   "outputs": [],
   "source": [
    "import matplotlib.pyplot as plt\n",
    "%matplotlib inline"
   ]
  },
  {
   "cell_type": "code",
   "execution_count": 50,
   "metadata": {},
   "outputs": [
    {
     "data": {
      "text/plain": [
       "<Axes: xlabel='Country'>"
      ]
     },
     "execution_count": 50,
     "metadata": {},
     "output_type": "execute_result"
    },
    {
     "data": {
      "image/png": "[encoded data removed]",
      "text/plain": [
       "<Figure size 2000x1000 with 1 Axes>"
      ]
     },
     "metadata": {},
     "output_type": "display_data"
    }
   ],
   "source": [
    "df.groupby('Country')['Name'].size().plot(kind='bar',figsize=(20,10))\n"
   ]
  },
  {
   "cell_type": "code",
   "execution_count": 51,
   "metadata": {},
   "outputs": [],
   "source": [
    "import time\n",
    "from sklearn import svm\n",
    "from sklearn.model_selection import train_test_split\n",
    "from sklearn.metrics import classification_report\n",
    "from sklearn.feature_extraction.text import TfidfVectorizer\n",
    "from sklearn.feature_extraction.text import CountVectorizer\n",
    "\n",
    "from yaspin import yaspin "
   ]
  },
  {
   "cell_type": "code",
   "execution_count": 52,
   "metadata": {},
   "outputs": [],
   "source": [
    "X = df['Name']\n",
    "y= df['Country']"
   ]
  },
  {
   "cell_type": "code",
   "execution_count": 80,
   "metadata": {},
   "outputs": [],
   "source": [
    "X_train, X_test, y_train, y_test = train_test_split(X, y, test_size=0.15, random_state=53) \n"
   ]
  },
  {
   "cell_type": "code",
   "execution_count": 81,
   "metadata": {},
   "outputs": [],
   "source": [
    "vectorizer = CountVectorizer(analyzer='char', ngram_range=(2, 2))\n",
    "train_vectors = vectorizer.fit_transform(X_train)\n",
    "test_vectors = vectorizer.transform(X_test)"
   ]
  },
  {
   "cell_type": "code",
   "execution_count": 22,
   "metadata": {},
   "outputs": [
    {
     "name": "stdout",
     "output_type": "stream",
     "text": [
      "No. of feature_words:  16582\n"
     ]
    }
   ],
   "source": [
    "vectorizer = TfidfVectorizer(min_df = 1,\n",
    "                             max_df = 0.94,\n",
    "                             sublinear_tf = True,\n",
    "                             use_idf = True)\n",
    "\n",
    "train_vectors = vectorizer.fit_transform(X_train)\n",
    "test_vectors = vectorizer.transform(X_test)\n",
    "\n",
    "print('No. of feature_words: ', len(vectorizer.get_feature_names_out()))"
   ]
  },
  {
   "cell_type": "code",
   "execution_count": 17,
   "metadata": {},
   "outputs": [
    {
     "name": "stdout",
     "output_type": "stream",
     "text": [
      "                            \r"
     ]
    }
   ],
   "source": [
    "with yaspin(text=\"elapsed time\", timer=True) as sp:\n",
    "    classifier_linear = svm.SVC(kernel='linear', probability=True)\n",
    "    t0 = time.time()\n",
    "    classifier_linear.fit(train_vectors, y_train)\n",
    "    t1 = time.time()\n",
    "    prediction_linear = classifier_linear.predict(test_vectors)\n",
    "    t2 = time.time()"
   ]
  },
  {
   "cell_type": "code",
   "execution_count": 25,
   "metadata": {},
   "outputs": [],
   "source": [
    "from sklearn.model_selection import train_test_split,GridSearchCV\n"
   ]
  },
  {
   "cell_type": "code",
   "execution_count": 28,
   "metadata": {},
   "outputs": [
    {
     "data": {
      "text/html": [
       "<style>#sk-container-id-1 {color: black;}#sk-container-id-1 pre{padding: 0;}#sk-container-id-1 div.sk-toggleable {background-color: white;}#sk-container-id-1 label.sk-toggleable__label {cursor: pointer;display: block;width: 100%;margin-bottom: 0;padding: 0.3em;box-sizing: border-box;text-align: center;}#sk-container-id-1 label.sk-toggleable__label-arrow:before {content: \"▸\";float: left;margin-right: 0.25em;color: #696969;}#sk-container-id-1 label.sk-toggleable__label-arrow:hover:before {color: black;}#sk-container-id-1 div.sk-estimator:hover label.sk-toggleable__label-arrow:before {color: black;}#sk-container-id-1 div.sk-toggleable__content {max-height: 0;max-width: 0;overflow: hidden;text-align: left;background-color: #f0f8ff;}#sk-container-id-1 div.sk-toggleable__content pre {margin: 0.2em;color: black;border-radius: 0.25em;background-color: #f0f8ff;}#sk-container-id-1 input.sk-toggleable__control:checked~div.sk-toggleable__content {max-height: 200px;max-width: 100%;overflow: auto;}#sk-container-id-1 input.sk-toggleable__control:checked~label.sk-toggleable__label-arrow:before {content: \"▾\";}#sk-container-id-1 div.sk-estimator input.sk-toggleable__control:checked~label.sk-toggleable__label {background-color: #d4ebff;}#sk-container-id-1 div.sk-label input.sk-toggleable__control:checked~label.sk-toggleable__label {background-color: #d4ebff;}#sk-container-id-1 input.sk-hidden--visually {border: 0;clip: rect(1px 1px 1px 1px);clip: rect(1px, 1px, 1px, 1px);height: 1px;margin: -1px;overflow: hidden;padding: 0;position: absolute;width: 1px;}#sk-container-id-1 div.sk-estimator {font-family: monospace;background-color: #f0f8ff;border: 1px dotted black;border-radius: 0.25em;box-sizing: border-box;margin-bottom: 0.5em;}#sk-container-id-1 div.sk-estimator:hover {background-color: #d4ebff;}#sk-container-id-1 div.sk-parallel-item::after {content: \"\";width: 100%;border-bottom: 1px solid gray;flex-grow: 1;}#sk-container-id-1 div.sk-label:hover label.sk-toggleable__label {background-color: #d4ebff;}#sk-container-id-1 div.sk-serial::before {content: \"\";position: absolute;border-left: 1px solid gray;box-sizing: border-box;top: 0;bottom: 0;left: 50%;z-index: 0;}#sk-container-id-1 div.sk-serial {display: flex;flex-direction: column;align-items: center;background-color: white;padding-right: 0.2em;padding-left: 0.2em;position: relative;}#sk-container-id-1 div.sk-item {position: relative;z-index: 1;}#sk-container-id-1 div.sk-parallel {display: flex;align-items: stretch;justify-content: center;background-color: white;position: relative;}#sk-container-id-1 div.sk-item::before, #sk-container-id-1 div.sk-parallel-item::before {content: \"\";position: absolute;border-left: 1px solid gray;box-sizing: border-box;top: 0;bottom: 0;left: 50%;z-index: -1;}#sk-container-id-1 div.sk-parallel-item {display: flex;flex-direction: column;z-index: 1;position: relative;background-color: white;}#sk-container-id-1 div.sk-parallel-item:first-child::after {align-self: flex-end;width: 50%;}#sk-container-id-1 div.sk-parallel-item:last-child::after {align-self: flex-start;width: 50%;}#sk-container-id-1 div.sk-parallel-item:only-child::after {width: 0;}#sk-container-id-1 div.sk-dashed-wrapped {border: 1px dashed gray;margin: 0 0.4em 0.5em 0.4em;box-sizing: border-box;padding-bottom: 0.4em;background-color: white;}#sk-container-id-1 div.sk-label label {font-family: monospace;font-weight: bold;display: inline-block;line-height: 1.2em;}#sk-container-id-1 div.sk-label-container {text-align: center;}#sk-container-id-1 div.sk-container {/* jupyter's `normalize.less` sets `[hidden] { display: none; }` but bootstrap.min.css set `[hidden] { display: none !important; }` so we also need the `!important` here to be able to override the default hidden behavior on the sphinx rendered scikit-learn.org. See: https://github.com/scikit-learn/scikit-learn/issues/21755 */display: inline-block !important;position: relative;}#sk-container-id-1 div.sk-text-repr-fallback {display: none;}</style><div id=\"sk-container-id-1\" class=\"sk-top-container\"><div class=\"sk-text-repr-fallback\"><pre>SVC(C=10, gamma=0.1)</pre><b>In a Jupyter environment, please rerun this cell to show the HTML representation or trust the notebook. <br />On GitHub, the HTML representation is unable to render, please try loading this page with nbviewer.org.</b></div><div class=\"sk-container\" hidden><div class=\"sk-item\"><div class=\"sk-estimator sk-toggleable\"><input class=\"sk-toggleable__control sk-hidden--visually\" id=\"sk-estimator-id-1\" type=\"checkbox\" checked><label for=\"sk-estimator-id-1\" class=\"sk-toggleable__label sk-toggleable__label-arrow\">SVC</label><div class=\"sk-toggleable__content\"><pre>SVC(C=10, gamma=0.1)</pre></div></div></div></div></div>"
      ],
      "text/plain": [
       "SVC(C=10, gamma=0.1)"
      ]
     },
     "execution_count": 28,
     "metadata": {},
     "output_type": "execute_result"
    }
   ],
   "source": [
    "# Define parameter grid\n",
    "param_grid = {\n",
    "    'C': [0.1, 1, 10, 100],\n",
    "    'kernel': ['linear', 'rbf'],\n",
    "    'gamma': [0.1, 1, 10, 100]\n",
    "}\n",
    "\n",
    "# Create GridSearch object\n",
    "grid_search = GridSearchCV(svm.SVC(), param_grid, cv=5)\n",
    "\n",
    "# Fit the model\n",
    "grid_search.fit(train_vectors, y_train)\n",
    "\n",
    "# Find the best parameters\n",
    "best_params = grid_search.best_params_\n",
    "\n",
    "# Create and fit a new model with best parameters\n",
    "best_svm_model = svm.SVC(**best_params)\n",
    "best_svm_model.fit(train_vectors, y_train)"
   ]
  },
  {
   "cell_type": "code",
   "execution_count": 30,
   "metadata": {},
   "outputs": [
    {
     "name": "stdout",
     "output_type": "stream",
     "text": [
      "{'C': 10, 'gamma': 0.1, 'kernel': 'rbf'}\n"
     ]
    }
   ],
   "source": [
    "print(best_params)"
   ]
  },
  {
   "cell_type": "code",
   "execution_count": 82,
   "metadata": {},
   "outputs": [
    {
     "name": "stdout",
     "output_type": "stream",
     "text": [
      "⠋ elapsed time (0:00:00.00)"
     ]
    },
    {
     "name": "stdout",
     "output_type": "stream",
     "text": [
      "                            \r"
     ]
    }
   ],
   "source": [
    "with yaspin(text=\"elapsed time\", timer=True) as sp:\n",
    "    classifier_linear = svm.SVC(kernel='rbf', C=10, gamma=0.1, probability=True)\n",
    "    t0 = time.time()\n",
    "    classifier_linear.fit(train_vectors, y_train)\n",
    "    t1 = time.time()\n",
    "    prediction_linear = classifier_linear.predict(test_vectors)\n",
    "    t2 = time.time()"
   ]
  },
  {
   "cell_type": "code",
   "execution_count": 24,
   "metadata": {},
   "outputs": [
    {
     "ename": "ValueError",
     "evalue": "Found input variables with inconsistent numbers of samples: [1010, 19179]",
     "output_type": "error",
     "traceback": [
      "\u001b[1;31m---------------------------------------------------------------------------\u001b[0m",
      "\u001b[1;31mValueError\u001b[0m                                Traceback (most recent call last)",
      "\u001b[1;32mc:\\Users\\tn2mi\\Deep Learning\\Learn\\Project\\NamePrediction\\BackEnd\\model\\names_prediction.ipynb Cell 19\u001b[0m line \u001b[0;36m1\n\u001b[1;32m----> <a href='vscode-notebook-cell:/c%3A/Users/tn2mi/Deep%20Learning/Learn/Project/NamePrediction/BackEnd/model/names_prediction.ipynb#X43sZmlsZQ%3D%3D?line=0'>1</a>\u001b[0m classifier_linear\u001b[39m.\u001b[39;49mscore(train_vectors,test_vectors)\n",
      "File \u001b[1;32mc:\\Python311\\Lib\\site-packages\\sklearn\\base.py:705\u001b[0m, in \u001b[0;36mClassifierMixin.score\u001b[1;34m(self, X, y, sample_weight)\u001b[0m\n\u001b[0;32m    680\u001b[0m \u001b[39m\u001b[39m\u001b[39m\"\"\"\u001b[39;00m\n\u001b[0;32m    681\u001b[0m \u001b[39mReturn the mean accuracy on the given test data and labels.\u001b[39;00m\n\u001b[0;32m    682\u001b[0m \n\u001b[1;32m   (...)\u001b[0m\n\u001b[0;32m    701\u001b[0m \u001b[39m    Mean accuracy of ``self.predict(X)`` w.r.t. `y`.\u001b[39;00m\n\u001b[0;32m    702\u001b[0m \u001b[39m\"\"\"\u001b[39;00m\n\u001b[0;32m    703\u001b[0m \u001b[39mfrom\u001b[39;00m \u001b[39m.\u001b[39;00m\u001b[39mmetrics\u001b[39;00m \u001b[39mimport\u001b[39;00m accuracy_score\n\u001b[1;32m--> 705\u001b[0m \u001b[39mreturn\u001b[39;00m accuracy_score(y, \u001b[39mself\u001b[39;49m\u001b[39m.\u001b[39;49mpredict(X), sample_weight\u001b[39m=\u001b[39;49msample_weight)\n",
      "File \u001b[1;32mc:\\Python311\\Lib\\site-packages\\sklearn\\utils\\_param_validation.py:211\u001b[0m, in \u001b[0;36mvalidate_params.<locals>.decorator.<locals>.wrapper\u001b[1;34m(*args, **kwargs)\u001b[0m\n\u001b[0;32m    205\u001b[0m \u001b[39mtry\u001b[39;00m:\n\u001b[0;32m    206\u001b[0m     \u001b[39mwith\u001b[39;00m config_context(\n\u001b[0;32m    207\u001b[0m         skip_parameter_validation\u001b[39m=\u001b[39m(\n\u001b[0;32m    208\u001b[0m             prefer_skip_nested_validation \u001b[39mor\u001b[39;00m global_skip_validation\n\u001b[0;32m    209\u001b[0m         )\n\u001b[0;32m    210\u001b[0m     ):\n\u001b[1;32m--> 211\u001b[0m         \u001b[39mreturn\u001b[39;00m func(\u001b[39m*\u001b[39;49margs, \u001b[39m*\u001b[39;49m\u001b[39m*\u001b[39;49mkwargs)\n\u001b[0;32m    212\u001b[0m \u001b[39mexcept\u001b[39;00m InvalidParameterError \u001b[39mas\u001b[39;00m e:\n\u001b[0;32m    213\u001b[0m     \u001b[39m# When the function is just a wrapper around an estimator, we allow\u001b[39;00m\n\u001b[0;32m    214\u001b[0m     \u001b[39m# the function to delegate validation to the estimator, but we replace\u001b[39;00m\n\u001b[0;32m    215\u001b[0m     \u001b[39m# the name of the estimator by the name of the function in the error\u001b[39;00m\n\u001b[0;32m    216\u001b[0m     \u001b[39m# message to avoid confusion.\u001b[39;00m\n\u001b[0;32m    217\u001b[0m     msg \u001b[39m=\u001b[39m re\u001b[39m.\u001b[39msub(\n\u001b[0;32m    218\u001b[0m         \u001b[39mr\u001b[39m\u001b[39m\"\u001b[39m\u001b[39mparameter of \u001b[39m\u001b[39m\\\u001b[39m\u001b[39mw+ must be\u001b[39m\u001b[39m\"\u001b[39m,\n\u001b[0;32m    219\u001b[0m         \u001b[39mf\u001b[39m\u001b[39m\"\u001b[39m\u001b[39mparameter of \u001b[39m\u001b[39m{\u001b[39;00mfunc\u001b[39m.\u001b[39m\u001b[39m__qualname__\u001b[39m\u001b[39m}\u001b[39;00m\u001b[39m must be\u001b[39m\u001b[39m\"\u001b[39m,\n\u001b[0;32m    220\u001b[0m         \u001b[39mstr\u001b[39m(e),\n\u001b[0;32m    221\u001b[0m     )\n",
      "File \u001b[1;32mc:\\Python311\\Lib\\site-packages\\sklearn\\metrics\\_classification.py:220\u001b[0m, in \u001b[0;36maccuracy_score\u001b[1;34m(y_true, y_pred, normalize, sample_weight)\u001b[0m\n\u001b[0;32m    154\u001b[0m \u001b[39m\u001b[39m\u001b[39m\"\"\"Accuracy classification score.\u001b[39;00m\n\u001b[0;32m    155\u001b[0m \n\u001b[0;32m    156\u001b[0m \u001b[39mIn multilabel classification, this function computes subset accuracy:\u001b[39;00m\n\u001b[1;32m   (...)\u001b[0m\n\u001b[0;32m    216\u001b[0m \u001b[39m0.5\u001b[39;00m\n\u001b[0;32m    217\u001b[0m \u001b[39m\"\"\"\u001b[39;00m\n\u001b[0;32m    219\u001b[0m \u001b[39m# Compute accuracy for each possible representation\u001b[39;00m\n\u001b[1;32m--> 220\u001b[0m y_type, y_true, y_pred \u001b[39m=\u001b[39m _check_targets(y_true, y_pred)\n\u001b[0;32m    221\u001b[0m check_consistent_length(y_true, y_pred, sample_weight)\n\u001b[0;32m    222\u001b[0m \u001b[39mif\u001b[39;00m y_type\u001b[39m.\u001b[39mstartswith(\u001b[39m\"\u001b[39m\u001b[39mmultilabel\u001b[39m\u001b[39m\"\u001b[39m):\n",
      "File \u001b[1;32mc:\\Python311\\Lib\\site-packages\\sklearn\\metrics\\_classification.py:84\u001b[0m, in \u001b[0;36m_check_targets\u001b[1;34m(y_true, y_pred)\u001b[0m\n\u001b[0;32m     57\u001b[0m \u001b[39mdef\u001b[39;00m \u001b[39m_check_targets\u001b[39m(y_true, y_pred):\n\u001b[0;32m     58\u001b[0m \u001b[39m    \u001b[39m\u001b[39m\"\"\"Check that y_true and y_pred belong to the same classification task.\u001b[39;00m\n\u001b[0;32m     59\u001b[0m \n\u001b[0;32m     60\u001b[0m \u001b[39m    This converts multiclass or binary types to a common shape, and raises a\u001b[39;00m\n\u001b[1;32m   (...)\u001b[0m\n\u001b[0;32m     82\u001b[0m \u001b[39m    y_pred : array or indicator matrix\u001b[39;00m\n\u001b[0;32m     83\u001b[0m \u001b[39m    \"\"\"\u001b[39;00m\n\u001b[1;32m---> 84\u001b[0m     check_consistent_length(y_true, y_pred)\n\u001b[0;32m     85\u001b[0m     type_true \u001b[39m=\u001b[39m type_of_target(y_true, input_name\u001b[39m=\u001b[39m\u001b[39m\"\u001b[39m\u001b[39my_true\u001b[39m\u001b[39m\"\u001b[39m)\n\u001b[0;32m     86\u001b[0m     type_pred \u001b[39m=\u001b[39m type_of_target(y_pred, input_name\u001b[39m=\u001b[39m\u001b[39m\"\u001b[39m\u001b[39my_pred\u001b[39m\u001b[39m\"\u001b[39m)\n",
      "File \u001b[1;32mc:\\Python311\\Lib\\site-packages\\sklearn\\utils\\validation.py:409\u001b[0m, in \u001b[0;36mcheck_consistent_length\u001b[1;34m(*arrays)\u001b[0m\n\u001b[0;32m    407\u001b[0m uniques \u001b[39m=\u001b[39m np\u001b[39m.\u001b[39munique(lengths)\n\u001b[0;32m    408\u001b[0m \u001b[39mif\u001b[39;00m \u001b[39mlen\u001b[39m(uniques) \u001b[39m>\u001b[39m \u001b[39m1\u001b[39m:\n\u001b[1;32m--> 409\u001b[0m     \u001b[39mraise\u001b[39;00m \u001b[39mValueError\u001b[39;00m(\n\u001b[0;32m    410\u001b[0m         \u001b[39m\"\u001b[39m\u001b[39mFound input variables with inconsistent numbers of samples: \u001b[39m\u001b[39m%r\u001b[39;00m\u001b[39m\"\u001b[39m\n\u001b[0;32m    411\u001b[0m         \u001b[39m%\u001b[39m [\u001b[39mint\u001b[39m(l) \u001b[39mfor\u001b[39;00m l \u001b[39min\u001b[39;00m lengths]\n\u001b[0;32m    412\u001b[0m     )\n",
      "\u001b[1;31mValueError\u001b[0m: Found input variables with inconsistent numbers of samples: [1010, 19179]"
     ]
    }
   ],
   "source": [
    "classifier_linear.score(train_vectors,test_vectors)"
   ]
  },
  {
   "cell_type": "code",
   "execution_count": 83,
   "metadata": {},
   "outputs": [
    {
     "name": "stdout",
     "output_type": "stream",
     "text": [
      "Training time: 89.85s; Prediction time: 2.86s\n"
     ]
    }
   ],
   "source": [
    "time_linear_train = t1-t0 # The time needed to train our linear classifier\n",
    "time_linear_predict = t2-t1 # The time needed to predict with our trained linear classifier\n",
    "\n",
    "print(\"Training time: {:.2f}s; Prediction time: {:.2f}s\".format(time_linear_train, time_linear_predict))"
   ]
  },
  {
   "cell_type": "code",
   "execution_count": 84,
   "metadata": {},
   "outputs": [],
   "source": [
    "import random as rd\n"
   ]
  },
  {
   "cell_type": "code",
   "execution_count": 85,
   "metadata": {},
   "outputs": [
    {
     "name": "stdout",
     "output_type": "stream",
     "text": [
      "arabic precision: 97.17%\n",
      "french precision: 40.00%\n",
      "german precision: 59.49%\n",
      "english precision: 74.35%\n",
      "dutch precision: 76.32%\n",
      "russian precision: 93.14%\n",
      "korean precision: 31.25%\n",
      "japanese precision: 84.51%\n",
      "polish precision: 75.00%\n",
      "vietnamese precision: 20.00%\n",
      "spanish precision: 37.93%\n",
      "portuguese precision: 12.50%\n",
      "scottish precision: 0.00%\n",
      "italian precision: 65.87%\n",
      "irish precision: 60.00%\n",
      "greek precision: 92.31%\n",
      "chinese precision: 55.56%\n",
      "czech precision: 53.33%\n",
      "\n",
      "\n",
      "arabic:  {'precision': 0.9716981132075472, 'recall': 1.0, 'f1-score': 0.985645933014354, 'support': 309.0}\n",
      "french:  {'precision': 0.4, 'recall': 0.24242424242424243, 'f1-score': 0.30188679245283023, 'support': 33.0}\n",
      "german:  {'precision': 0.5949367088607594, 'recall': 0.4845360824742268, 'f1-score': 0.5340909090909092, 'support': 97.0}\n",
      "english:  {'precision': 0.7435114503816794, 'recall': 0.8469565217391304, 'f1-score': 0.791869918699187, 'support': 575.0}\n",
      "dutch:  {'precision': 0.7631578947368421, 'recall': 0.5087719298245614, 'f1-score': 0.6105263157894737, 'support': 57.0}\n",
      "russian:  {'precision': 0.9314487632508834, 'recall': 0.9461593682699211, 'f1-score': 0.9387464387464388, 'support': 1393.0}\n",
      "czech:  {'precision': 0.5333333333333333, 'recall': 0.4155844155844156, 'f1-score': 0.46715328467153283, 'support': 77.0}\n",
      "chinese:  {'precision': 0.5555555555555556, 'recall': 0.7352941176470589, 'f1-score': 0.6329113924050633, 'support': 34.0}\n",
      "greek:  {'precision': 0.9230769230769231, 'recall': 0.5853658536585366, 'f1-score': 0.7164179104477613, 'support': 41.0}\n",
      "irish:  {'precision': 0.6, 'recall': 0.375, 'f1-score': 0.4615384615384615, 'support': 32.0}\n",
      "italian:  {'precision': 0.6587301587301587, 'recall': 0.664, 'f1-score': 0.6613545816733067, 'support': 125.0}\n",
      "scottish:  {'precision': 0.0, 'recall': 0.0, 'f1-score': 0.0, 'support': 13.0}\n",
      "portuguese:  {'precision': 0.125, 'recall': 0.08333333333333333, 'f1-score': 0.1, 'support': 12.0}\n",
      "spanish:  {'precision': 0.3793103448275862, 'recall': 0.25, 'f1-score': 0.3013698630136986, 'support': 44.0}\n",
      "vietnamese:  {'precision': 0.2, 'recall': 0.08333333333333333, 'f1-score': 0.11764705882352941, 'support': 12.0}\n",
      "polish:  {'precision': 0.75, 'recall': 0.5, 'f1-score': 0.6, 'support': 18.0}\n",
      "japanese:  {'precision': 0.8450704225352113, 'recall': 0.8275862068965517, 'f1-score': 0.8362369337979093, 'support': 145.0}\n",
      "korean:  {'precision': 0.3125, 'recall': 0.4166666666666667, 'f1-score': 0.35714285714285715, 'support': 12.0}\n"
     ]
    }
   ],
   "source": [
    "report = classification_report(y_test, prediction_linear, output_dict=True)\n",
    "\n",
    "print('arabic precision: {:.2f}%'.format(report['Arabic'][\"precision\"]*100))\n",
    "print('french precision: {:.2f}%'.format(report['French'][\"precision\"]*100))\n",
    "print('german precision: {:.2f}%'.format(report['German'][\"precision\"]*100))\n",
    "print('english precision: {:.2f}%'.format(report['English'][\"precision\"]*100))\n",
    "print('dutch precision: {:.2f}%'.format(report['Dutch'][\"precision\"]*100))\n",
    "print('russian precision: {:.2f}%'.format(report['Russian'][\"precision\"]*100))\n",
    "print('korean precision: {:.2f}%'.format(report['Korean'][\"precision\"]*100))\n",
    "print('japanese precision: {:.2f}%'.format(report['Japanese'][\"precision\"]*100))\n",
    "print('polish precision: {:.2f}%'.format(report['Polish'][\"precision\"]*100))\n",
    "print('vietnamese precision: {:.2f}%'.format(report['Vietnamese'][\"precision\"]*100))\n",
    "print('spanish precision: {:.2f}%'.format(report['Spanish'][\"precision\"]*100))\n",
    "print('portuguese precision: {:.2f}%'.format(report['Portuguese'][\"precision\"]*100))\n",
    "print('scottish precision: {:.2f}%'.format(report['Scottish'][\"precision\"]*100))\n",
    "print('italian precision: {:.2f}%'.format(report['Italian'][\"precision\"]*100))\n",
    "print('irish precision: {:.2f}%'.format(report['Irish'][\"precision\"]*100))\n",
    "print('greek precision: {:.2f}%'.format(report['Greek'][\"precision\"]*100))\n",
    "print('chinese precision: {:.2f}%'.format(report['Chinese'][\"precision\"]*100))\n",
    "print('czech precision: {:.2f}%'.format(report['Czech'][\"precision\"]*100))\n",
    "\n",
    "\n",
    "\n",
    "\n",
    "print(\"\\n\")\n",
    "print('arabic: ', report['Arabic'])\n",
    "print('french: ', report['French'])\n",
    "print('german: ', report['German'])\n",
    "print('english: ', report['English'])\n",
    "print('dutch: ', report['Dutch'])\n",
    "print('russian: ', report['Russian'])\n",
    "print('czech: ', report['Czech'])\n",
    "print('chinese: ', report['Chinese'])\n",
    "print('greek: ', report['Greek'])\n",
    "print('irish: ', report['Irish'])\n",
    "print('italian: ', report['Italian'])\n",
    "print('scottish: ', report['Scottish'])\n",
    "print('portuguese: ', report['Portuguese'])\n",
    "print('spanish: ', report['Spanish'])\n",
    "print('vietnamese: ', report['Vietnamese'])\n",
    "print('polish: ', report['Polish'])\n",
    "print('japanese: ', report['Japanese'])\n",
    "print('korean: ', report['Korean'])"
   ]
  },
  {
   "cell_type": "code",
   "execution_count": 86,
   "metadata": {},
   "outputs": [],
   "source": [
    "def predict_language(text):\n",
    "    serie = pd.Series(text)\n",
    "    vector = vectorizer.transform(serie)\n",
    "    return classifier_linear.predict(vector)[0]"
   ]
  },
  {
   "cell_type": "code",
   "execution_count": 102,
   "metadata": {},
   "outputs": [
    {
     "name": "stdout",
     "output_type": "stream",
     "text": [
      "Currie\n",
      "\n",
      " -> LABELED LANGUAGE: English\n",
      "-> PREDICTED LANGUAGE: English\n"
     ]
    }
   ],
   "source": [
    "random_number = rd.randint(0, len(df)+1) # Picking a random sentence from the dataset\n",
    "text = df.Name[random_number]\n",
    "language = df.Country[random_number]\n",
    "\n",
    "print(text)\n",
    "print(\"\\n -> LABELED LANGUAGE: \" + language)\n",
    "print(\"-> PREDICTED LANGUAGE: \" + predict_language(text))"
   ]
  },
  {
   "cell_type": "code",
   "execution_count": 109,
   "metadata": {},
   "outputs": [],
   "source": [
    "import codecs\n",
    "import seaborn as sns \n",
    "import re\n",
    "import glob\n",
    "import unidecode\n",
    "import matplotlib.pyplot as plt\n",
    "import numpy as np\n",
    "\n",
    "import pandas as pd\n",
    "from tqdm import tqdm\n",
    "from sklearn import svm\n",
    "from datetime import datetime\n",
    "from sklearn.metrics import classification_report\n",
    "from sklearn.feature_extraction.text import TfidfVectorizer\n",
    "tqdm.pandas()\n",
    "\n"
   ]
  },
  {
   "cell_type": "code",
   "execution_count": 122,
   "metadata": {},
   "outputs": [],
   "source": [
    "import pickle\n",
    "\n",
    "pickle.dump(classifier_linear, open('C:\\\\Users\\\\tn2mi\\\\Deep Learning\\\\Learn\\\\Project\\\\NamePrediction\\\\BackEnd\\\\model\\\\SVM_model_language_identifier.pkl', 'wb')) # saving the model\n",
    "with open('C:\\\\Users\\\\tn2mi\\\\Deep Learning\\\\Learn\\\\Project\\\\NamePrediction\\\\BackEnd\\\\model\\\\SVM_vectorizer.pk', 'wb') as fin: # saving the vectorizer\n",
    "    pickle.dump(vectorizer, fin)\n"
   ]
  },
  {
   "cell_type": "code",
   "execution_count": 111,
   "metadata": {},
   "outputs": [],
   "source": [
    "import pickle\n",
    "import pandas as pd\n",
    "\n",
    "SVM_model = pickle.load(open('C:\\\\Users\\\\tn2mi\\\\Deep Learning\\\\Learn\\\\Project\\\\NamePrediction\\\\BackEnd\\\\model\\\\SVM_model_language_identifier.pkl', 'rb'))\n",
    "SVM_vectorizer = pickle.load(open(\"C:\\\\Users\\\\tn2mi\\\\Deep Learning\\\\Learn\\\\Project\\\\NamePrediction\\\\BackEnd\\\\model\\\\SVM_vectorizer.pk\",\"rb\"))\n",
    "\n",
    "\n",
    "def predict_language(text):\n",
    "    serie = pd.Series(text)\n",
    "    vector = SVM_vectorizer.transform(serie)\n",
    "    return str(SVM_model.predict(vector)[0])"
   ]
  },
  {
   "cell_type": "code",
   "execution_count": 121,
   "metadata": {},
   "outputs": [
    {
     "name": "stdout",
     "output_type": "stream",
     "text": [
      "English\n"
     ]
    }
   ],
   "source": [
    "text = \"adam\" \n",
    "print(predict_language(text))"
   ]
  },
  {
   "cell_type": "code",
   "execution_count": 16,
   "metadata": {},
   "outputs": [
    {
     "name": "stdout",
     "output_type": "stream",
     "text": [
      "python: can't open file 'c:\\\\Users\\\\tn2mi\\\\Deep Learning\\\\Learn\\\\DeploymentFastApi\\\\model\\\\language_identifier.py': [Errno 2] No such file or directory\n"
     ]
    }
   ],
   "source": []
  },
  {
   "cell_type": "code",
   "execution_count": null,
   "metadata": {},
   "outputs": [],
   "source": []
  }
 ],
 "metadata": {
  "kernelspec": {
   "display_name": "Python 3",
   "language": "python",
   "name": "python3"
  },
  "language_info": {
   "codemirror_mode": {
    "name": "ipython",
    "version": 3
   },
   "file_extension": ".py",
   "mimetype": "text/x-python",
   "name": "python",
   "nbconvert_exporter": "python",
   "pygments_lexer": "ipython3",
   "version": "3.11.0"
  },
  "orig_nbformat": 4
 },
 "nbformat": 4,
 "nbformat_minor": 2
}
